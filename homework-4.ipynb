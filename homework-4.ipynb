{
 "cells": [
  {
   "cell_type": "markdown",
   "metadata": {},
   "source": [
    "### Решение задач ДЗ №4"
   ]
  },
  {
   "cell_type": "markdown",
   "metadata": {},
   "source": [
    "#### Строки, кортежи и списки"
   ]
  },
  {
   "cell_type": "code",
   "execution_count": null,
   "metadata": {},
   "outputs": [],
   "source": [
    "# Азбука\n",
    "N = int(input())\n",
    "status = 'YES'\n",
    "for i in range(N):\n",
    "    word = str(input())\n",
    "    if word[0] != 'а' and word[0] != 'б' and word[0] != 'в':\n",
    "        status = 'NO'\n",
    "print(status)"
   ]
  },
  {
   "cell_type": "code",
   "execution_count": null,
   "metadata": {},
   "outputs": [],
   "source": [
    "# Анонс новости\n",
    "L = int(input())\n",
    "N = int(input())\n",
    "for i in range(N):\n",
    "    text = str(input())\n",
    "    if len(text) > L:\n",
    "        print(f'{text[0:L-3]}...')\n",
    "    else:\n",
    "        print(f'{text}')"
   ]
  },
  {
   "cell_type": "code",
   "execution_count": null,
   "metadata": {},
   "outputs": [],
   "source": [
    "# Очистка данных\n",
    "while (text := input()) != '':\n",
    "    if text.startswith('##') and not text.endswith('@@@'):\n",
    "        print(text[2:])\n",
    "    elif text.endswith('@@@'):\n",
    "        continue\n",
    "    else:\n",
    "        print(text)"
   ]
  },
  {
   "cell_type": "code",
   "execution_count": null,
   "metadata": {},
   "outputs": [],
   "source": [
    "# Без комментариев\n",
    "lines = []\n",
    "while (line := input()) != '':\n",
    "    if '#' in line:\n",
    "        if line.startswith('#'):\n",
    "            continue\n",
    "        else:\n",
    "            index = line.index('#')\n",
    "            lines.append(line[0:index])\n",
    "    else:\n",
    "        lines.append(line)  \n",
    "print(*lines, sep='\\n')"
   ]
  },
  {
   "cell_type": "code",
   "execution_count": null,
   "metadata": {},
   "outputs": [],
   "source": [
    "# Частотный анализ на минималках\n",
    "text = ''\n",
    "letter_count = []\n",
    "\n",
    "while (line := input()) != 'ФИНИШ':\n",
    "    text += line.lower()\n",
    "\n",
    "letters = set(list(text))\n",
    "if ' ' in letters:\n",
    "    letters.remove(' ')\n",
    "\n",
    "for letter in letters:\n",
    "    count = text.count(letter)\n",
    "    letter_count.append((letter, count))\n",
    "\n",
    "letter_count.sort(key=lambda x: x[1])\n",
    "print(letter_count[-1][0])"
   ]
  },
  {
   "cell_type": "code",
   "execution_count": null,
   "metadata": {},
   "outputs": [],
   "source": [
    "# Массовое возведение в степень\n",
    "N = int(input())\n",
    "list_nums = [int(input()) for _ in range(N)]\n",
    "P = int(input())\n",
    "print(*[i ** P for i in list_nums], sep='\\n')"
   ]
  },
  {
   "cell_type": "code",
   "execution_count": null,
   "metadata": {},
   "outputs": [],
   "source": [
    "# НОД 3.0\n",
    "def euclidean_algorithm(a, b):\n",
    "    while b:\n",
    "        a, b = b, a % b\n",
    "    return a\n",
    "\n",
    "\n",
    "def gcd_of_multiple_numbers(numbers):\n",
    "    result = numbers[0]\n",
    "    for num in numbers[1:]:\n",
    "        result = euclidean_algorithm(result, num)\n",
    "    return result\n",
    "    \n",
    "\n",
    "numbers = list(map(int, input().split()))\n",
    "result_gcd = gcd_of_multiple_numbers(numbers)\n",
    "print(result_gcd)"
   ]
  },
  {
   "cell_type": "code",
   "execution_count": null,
   "metadata": {},
   "outputs": [],
   "source": [
    "# RLE\n",
    "nums = input()\n",
    "a = 1\n",
    "\n",
    "for i in range(0, len(nums) - 1):\n",
    "    if nums[i] == nums[i + 1]:\n",
    "        a += 1\n",
    "    elif nums[i] != nums[i + 1]:\n",
    "        print(nums[i], a)\n",
    "        a = 1\n",
    "    \n",
    "print(nums[i + 1], a)"
   ]
  },
  {
   "cell_type": "markdown",
   "metadata": {},
   "source": [
    "####  Множества, словари"
   ]
  },
  {
   "cell_type": "code",
   "execution_count": null,
   "metadata": {},
   "outputs": [],
   "source": [
    "# Символическая разница\n",
    "print(*list(set(input()) & (set(input()))), sep='')"
   ]
  },
  {
   "cell_type": "code",
   "execution_count": null,
   "metadata": {},
   "outputs": [],
   "source": [
    "# Зайка — 8\n",
    "set1 = set()\n",
    "for i in range(int(input())):\n",
    "    set2 = set(input().split())\n",
    "    set1 = set1 | set2\n",
    "print(*list(set1), sep='\\n')"
   ]
  },
  {
   "cell_type": "code",
   "execution_count": null,
   "metadata": {},
   "outputs": [],
   "source": [
    "# Кашееды\n",
    "N = int(input())\n",
    "M = int(input())\n",
    "group1 = set()\n",
    "group2 = set()\n",
    "\n",
    "for i in range(N):\n",
    "    group1.add(input())\n",
    "    \n",
    "for i in range(M):\n",
    "    group2.add(input())\n",
    "    \n",
    "num_students = len(group1 & group2)\n",
    "print(num_students if num_students > 0 else 'Таких нет')"
   ]
  },
  {
   "cell_type": "code",
   "execution_count": null,
   "metadata": {},
   "outputs": [],
   "source": [
    "# Зайка — 9\n",
    "set1 = set()\n",
    "list_things = []\n",
    "\n",
    "while (line := input()) != '':\n",
    "    line = line.split()\n",
    "    list_things += line\n",
    "    set2 = set(line)\n",
    "    set1 = set1 | set2\n",
    "\n",
    "set_things = set1\n",
    "for thing in set_things:\n",
    "    print(thing, list_things.count(thing))"
   ]
  },
  {
   "cell_type": "code",
   "execution_count": null,
   "metadata": {},
   "outputs": [],
   "source": [
    "# Транслитерация\n",
    "alphabet = [('А', 'A'), ('Б', 'B'), ('В', 'V'), ('Г', 'G'), ('Д', 'D'), \n",
    "            ('Е', 'E'), ('Ё', 'E'), ('Ж', 'Zh'), ('З', 'Z'), ('И', 'I'), \n",
    "            ('Й', 'I'), ('К', 'K'), ('Л', 'L'), ('М', 'M'), ('Н', 'N'), \n",
    "            ('О', 'O'), ('П', 'P'), ('Р', 'R'), ('С', 'S'), ('Т', 'T'), \n",
    "            ('У', 'U'), ('Ф', 'F'), ('Х', 'Kh'), ('Ц', 'Tc'), ('Ч', 'Ch'), \n",
    "            ('Ш', 'Sh'), ('Щ', 'Shch'), ('Ы', 'Y'), ('Э', 'E'), ('Ю', 'Iu'), ('Я', 'Ia')]\n",
    "\n",
    "ru_alphabet = [i[0] for i in alphabet]\n",
    "en_alphabet = [i[1] for i in alphabet]\n",
    "\n",
    "text = input()\n",
    "en_text = ''\n",
    "\n",
    "for symbol in text:\n",
    "    if symbol.upper() in ru_alphabet:\n",
    "        i = ru_alphabet.index(symbol.upper())\n",
    "        if symbol.isupper():\n",
    "            en_text += en_alphabet[i]\n",
    "        elif symbol.islower():\n",
    "            en_text += en_alphabet[i].lower()\n",
    "    elif symbol == 'ъ' or symbol == 'ь' or symbol == 'Ъ' or symbol == 'Ь':\n",
    "        continue\n",
    "    else:\n",
    "        en_text += symbol\n",
    "\n",
    "print(en_text)"
   ]
  },
  {
   "cell_type": "code",
   "execution_count": null,
   "metadata": {},
   "outputs": [],
   "source": [
    "# Однофамильцы\n",
    "N = int(input())\n",
    "list_names = [input() for i in range(N)]\n",
    "set_names = set(list_names)\n",
    "\n",
    "for name in set_names:\n",
    "    if list_names.count(name) == 1:\n",
    "        N -= 1\n",
    "\n",
    "print(N)"
   ]
  },
  {
   "cell_type": "code",
   "execution_count": null,
   "metadata": {},
   "outputs": [],
   "source": [
    "# Простая задача 4.0\n",
    "def prime_nums(num1, num2):\n",
    "    result = True\n",
    "    n = num1 + num2\n",
    "    for i in range(2, n):\n",
    "        if num1 % i == 0 and num2 % i == 0:\n",
    "            result = False\n",
    "    return result, num2\n",
    "\n",
    "\n",
    "list_prime_nums = []\n",
    "nums = list(map(int, input().split('; ')))\n",
    "set_nums = set(nums)\n",
    "\n",
    "for i in set_nums:\n",
    "    sp = []\n",
    "    for j in set_nums:\n",
    "        if prime_nums(i, j) == (True, j):\n",
    "            sp.append(j)\n",
    "    sp.sort()\n",
    "    sp = list(map(str, sp))\n",
    "    if len(sp) > 0:\n",
    "        list_prime_nums.append((i, sp))\n",
    "    sp = []\n",
    "\n",
    "list_prime_nums.sort(key=lambda x: x[0])\n",
    "\n",
    "for n, m in list_prime_nums:\n",
    "    m = ', '.join(m)\n",
    "    print(f'{n} - {m}')"
   ]
  },
  {
   "cell_type": "code",
   "execution_count": null,
   "metadata": {},
   "outputs": [],
   "source": [
    "# Друзья друзей"
   ]
  },
  {
   "cell_type": "markdown",
   "metadata": {},
   "source": [
    "#### Списочные выражения"
   ]
  },
  {
   "cell_type": "code",
   "execution_count": null,
   "metadata": {},
   "outputs": [],
   "source": [
    "# Список квадратов\n",
    "a = int(input())\n",
    "b = int(input())\n",
    "print([i**2 for i in range(a, b + 1)])"
   ]
  },
  {
   "cell_type": "code",
   "execution_count": 1,
   "metadata": {},
   "outputs": [
    {
     "name": "stdout",
     "output_type": "stream",
     "text": [
      "[[1, 2, 3], [2, 4, 6], [3, 6, 9]]\n"
     ]
    }
   ],
   "source": [
    "# Таблица умножения 2.0\n",
    "n = int(input())\n",
    "table = [[i*j for j in range(1, n + 1)] for i in range(1, n + 1)]\n",
    "print(table)"
   ]
  },
  {
   "cell_type": "code",
   "execution_count": null,
   "metadata": {},
   "outputs": [],
   "source": [
    "# Длины всех слов\n",
    "sentence = input().split()\n",
    "print([len(word) for word in sentence])"
   ]
  },
  {
   "cell_type": "code",
   "execution_count": null,
   "metadata": {},
   "outputs": [],
   "source": [
    "# Множество нечетных чисел\n",
    "numbers = [1, 2, 3, 4, 5]\n",
    "print(set([num for num in numbers if num % 2 == 1]))"
   ]
  },
  {
   "cell_type": "code",
   "execution_count": null,
   "metadata": {},
   "outputs": [],
   "source": [
    "# Множество всех полных квадратов\n",
    "set_numbers = set()\n",
    "numbers = [1, 2, 3, 4, 5]\n",
    "for num in numbers:\n",
    "    if num**(1/2) == int(num**(1/2)):\n",
    "        set_numbers.add(num)\n",
    "print(set_numbers)"
   ]
  },
  {
   "cell_type": "code",
   "execution_count": null,
   "metadata": {},
   "outputs": [],
   "source": [
    "# Буквенная статистика\n",
    "text = 'Мама мыла раму!'\n",
    "text = ''.join(text.split()).lower()\n",
    "letter_stat = {}\n",
    "for letter in text:\n",
    "    count = text.count(letter)\n",
    "    letter_stat[letter] = count\n",
    "print(letter_stat)    "
   ]
  },
  {
   "cell_type": "code",
   "execution_count": null,
   "metadata": {},
   "outputs": [],
   "source": [
    "# Делители\n",
    "numbers = {1, 2, 3, 4, 5}\n",
    "nums_divisors = {}\n",
    "for num in numbers:\n",
    "    nums = []\n",
    "    for i in range(1, num + 1):\n",
    "        if num % i == 0:\n",
    "            nums.append(i)\n",
    "    nums_divisors[num] = nums\n",
    "print(nums_divisors)"
   ]
  },
  {
   "cell_type": "code",
   "execution_count": null,
   "metadata": {},
   "outputs": [],
   "source": [
    "# Аббревиатура\n",
    "string = 'Российская Федерация'\n",
    "string = [word.capitalize() for word in string.split()]\n",
    "abbreviatura = ''\n",
    "for word in string:\n",
    "    abbreviatura += word[0]\n",
    "print(abbreviatura)"
   ]
  },
  {
   "cell_type": "code",
   "execution_count": 33,
   "metadata": {},
   "outputs": [
    {
     "name": "stdout",
     "output_type": "stream",
     "text": [
      "1 - 2 - 3 - 4 - 6 - 7 - 10\n"
     ]
    }
   ],
   "source": [
    "# Преобразование в строку\n",
    "numbers = [1, 1, 3, 1, 10, 2, 4, 6, 7, 1, 2, 7]\n",
    "numbers = sorted(set(numbers))\n",
    "print(*numbers, sep=' - ')"
   ]
  },
  {
   "cell_type": "code",
   "execution_count": 35,
   "metadata": {},
   "outputs": [
    {
     "name": "stdout",
     "output_type": "stream",
     "text": [
      "100500\n"
     ]
    }
   ],
   "source": [
    "# RLE наоборот\n",
    "rle = [('1', 1), ('0', 2), ('5', 1), ('0', 2)]\n",
    "string = ''\n",
    "for symbol, num in rle:\n",
    "    string += symbol*num\n",
    "print(string)"
   ]
  }
 ],
 "metadata": {
  "kernelspec": {
   "display_name": "Python 3",
   "language": "python",
   "name": "python3"
  },
  "language_info": {
   "codemirror_mode": {
    "name": "ipython",
    "version": 3
   },
   "file_extension": ".py",
   "mimetype": "text/x-python",
   "name": "python",
   "nbconvert_exporter": "python",
   "pygments_lexer": "ipython3",
   "version": "3.11.6"
  },
  "orig_nbformat": 4
 },
 "nbformat": 4,
 "nbformat_minor": 2
}
